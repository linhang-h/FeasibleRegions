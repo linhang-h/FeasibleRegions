{
 "cells": [
  {
   "cell_type": "code",
   "execution_count": 5,
   "id": "6cdc7e7a-6614-4e87-bd04-a3081ea8a553",
   "metadata": {},
   "outputs": [],
   "source": [
    "import numpy as np\n",
    "import smt\n",
    "from smt.surrogate_models import KRG\n",
    "from smt.sampling_methods import LHS\n",
    "from scipy.integrate import quad, dblquad\n",
    "import math"
   ]
  },
  {
   "cell_type": "code",
   "execution_count": 11,
   "id": "d6042c16-67aa-402f-920e-71f1f3ce536c",
   "metadata": {},
   "outputs": [],
   "source": [
    "def integrand(x,y):\n",
    "    return math.exp((-1)*(x**2) + (-1)*(y**2))\n",
    "    \n",
    "def loss(x1,x2,y1):\n",
    "    if x1 == x2:\n",
    "        return (0,0)\n",
    "    y2 = 1/(x2-x1) + y1\n",
    "    return dblquad(integrand, x1,x2, lambda t: y1,lambda t: y2)"
   ]
  },
  {
   "cell_type": "code",
   "execution_count": 12,
   "id": "550fb988-9cc4-4c87-8a12-fba0edee3fb5",
   "metadata": {},
   "outputs": [
    {
     "data": {
      "text/plain": [
       "(0.5577462853510337, 8.291374381535406e-15)"
      ]
     },
     "execution_count": 12,
     "metadata": {},
     "output_type": "execute_result"
    }
   ],
   "source": [
    "loss(0,1,0)"
   ]
  },
  {
   "cell_type": "code",
   "execution_count": 13,
   "id": "20f344d6-76c0-4a9a-a3af-cf90572aee08",
   "metadata": {},
   "outputs": [],
   "source": [
    "xlimits = np.array([[0.0, 4.0], [0.0, 3.0], [0.0,4.0]])\n",
    "sampling = LHS(xlimits=xlimits)\n",
    "xt = sampling(10)\n",
    "yt = np.array([a for (a,b) in [loss(i,j,k) for i,j,k in xt]])"
   ]
  },
  {
   "cell_type": "code",
   "execution_count": 14,
   "id": "acf174d0-7ae6-442e-b157-69d860464964",
   "metadata": {},
   "outputs": [
    {
     "name": "stdout",
     "output_type": "stream",
     "text": [
      "___________________________________________________________________________\n",
      "   \n",
      "                                  Kriging\n",
      "___________________________________________________________________________\n",
      "   \n",
      " Problem size\n",
      "   \n",
      "      # training points.        : 10\n",
      "   \n",
      "___________________________________________________________________________\n",
      "   \n",
      " Training\n",
      "   \n",
      "   Training ...\n",
      "   Training - done. Time (sec):  0.5921459\n"
     ]
    }
   ],
   "source": [
    "sm = KRG(theta0=[1e-2])\n",
    "sm.set_training_values(xt, yt)\n",
    "sm.train()"
   ]
  },
  {
   "cell_type": "markdown",
   "id": "a36b91c7-4037-4890-b41e-ffe52294157e",
   "metadata": {},
   "source": [
    "# TODO:\n",
    "- make testing data\n",
    "- plot data\n",
    "- possibly reformat to be in lower dimension"
   ]
  },
  {
   "cell_type": "code",
   "execution_count": null,
   "id": "cf21b973-768d-4f79-acd2-d62ba19398da",
   "metadata": {},
   "outputs": [],
   "source": [
    "x_test = "
   ]
  }
 ],
 "metadata": {
  "kernelspec": {
   "display_name": "Python 3 (ipykernel)",
   "language": "python",
   "name": "python3"
  },
  "language_info": {
   "codemirror_mode": {
    "name": "ipython",
    "version": 3
   },
   "file_extension": ".py",
   "mimetype": "text/x-python",
   "name": "python",
   "nbconvert_exporter": "python",
   "pygments_lexer": "ipython3",
   "version": "3.11.3"
  }
 },
 "nbformat": 4,
 "nbformat_minor": 5
}
