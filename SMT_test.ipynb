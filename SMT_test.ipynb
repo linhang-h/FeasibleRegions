{
 "cells": [
  {
   "cell_type": "markdown",
   "metadata": {},
   "source": [
    "## Exploring SMT"
   ]
  },
  {
   "cell_type": "code",
   "execution_count": 1,
   "metadata": {},
   "outputs": [],
   "source": [
    "import numpy as np\n",
    "from smt.utils.misc import compute_relative_error\n",
    "\n",
    "from smt.problems import Rosenbrock\n",
    "from smt.sampling_methods import LHS\n",
    "from smt.surrogate_models import LS, QP, KPLS, KRG, KPLSK, GEKPLS, MGP, IDW, RBF, RMTC, RMTB\n",
    "import matplotlib.pyplot as plt\n",
    "from matplotlib import cm\n",
    "\n",
    "from scipy.integrate import dblquad"
   ]
  },
  {
   "cell_type": "markdown",
   "metadata": {},
   "source": [
    "### Finding the best rectangular domain of area 1 to integrate the hidden function"
   ]
  },
  {
   "cell_type": "code",
   "execution_count": 2,
   "metadata": {},
   "outputs": [],
   "source": [
    "def hidden_function(x,y):\n",
    "    return np.exp(-x**2-y**2)\n",
    "\n",
    "def objective_function(x,y,l):\n",
    "    return dblquad(hidden_function, x, x+l, y, y+1/l)[0]"
   ]
  },
  {
   "cell_type": "markdown",
   "metadata": {},
   "source": [
    "### Sample with Latin Hypercube Sampling"
   ]
  },
  {
   "cell_type": "code",
   "execution_count": 3,
   "metadata": {},
   "outputs": [
    {
     "data": {
      "text/plain": [
       "[array([[-3.1  , -0.5  ,  3.383],\n",
       "        [ 1.1  ,  3.9  ,  0.933],\n",
       "        [ 2.3  ,  4.3  ,  2.599],\n",
       "        [ 4.7  ,  0.7  ,  4.167],\n",
       "        [-4.3  ,  2.1  ,  1.913]]),\n",
       " array([3.01715876e-01, 3.16293234e-09, 1.04043354e-12, 3.25725260e-12,\n",
       "        1.60251114e-06])]"
      ]
     },
     "execution_count": 3,
     "metadata": {},
     "output_type": "execute_result"
    }
   ],
   "source": [
    "sampling = LHS(xlimits=np.array([[-5,5],[-5,5],[0.1,5]]))\n",
    "\n",
    "X = sampling(50)\n",
    "Y = np.array([objective_function(x,y,z) for x,y,z in X])\n",
    "[X[:5], Y[:5]]"
   ]
  },
  {
   "cell_type": "markdown",
   "metadata": {},
   "source": [
    "### Training with Kriging"
   ]
  },
  {
   "cell_type": "code",
   "execution_count": 4,
   "metadata": {},
   "outputs": [
    {
     "name": "stdout",
     "output_type": "stream",
     "text": [
      "___________________________________________________________________________\n",
      "   \n",
      "                                  Kriging\n",
      "___________________________________________________________________________\n",
      "   \n",
      " Problem size\n",
      "   \n",
      "      # training points.        : 50\n",
      "   \n",
      "___________________________________________________________________________\n",
      "   \n",
      " Training\n",
      "   \n",
      "   Training ...\n",
      "   Training - done. Time (sec):  1.3803449\n"
     ]
    }
   ],
   "source": [
    "sm = KRG(theta0=[1e-2, 1e-2, 1e-2])\n",
    "sm.set_training_values(X, Y)\n",
    "sm.train()"
   ]
  },
  {
   "cell_type": "markdown",
   "metadata": {},
   "source": [
    "### Making predictions for squares"
   ]
  },
  {
   "cell_type": "code",
   "execution_count": 5,
   "metadata": {},
   "outputs": [
    {
     "data": {
      "text/plain": [
       "(array([[-5.        , -3.88888889, -2.77777778, -1.66666667, -0.55555556,\n",
       "          0.55555556,  1.66666667,  2.77777778,  3.88888889,  5.        ],\n",
       "        [-5.        , -3.88888889, -2.77777778, -1.66666667, -0.55555556,\n",
       "          0.55555556,  1.66666667,  2.77777778,  3.88888889,  5.        ],\n",
       "        [-5.        , -3.88888889, -2.77777778, -1.66666667, -0.55555556,\n",
       "          0.55555556,  1.66666667,  2.77777778,  3.88888889,  5.        ],\n",
       "        [-5.        , -3.88888889, -2.77777778, -1.66666667, -0.55555556,\n",
       "          0.55555556,  1.66666667,  2.77777778,  3.88888889,  5.        ],\n",
       "        [-5.        , -3.88888889, -2.77777778, -1.66666667, -0.55555556,\n",
       "          0.55555556,  1.66666667,  2.77777778,  3.88888889,  5.        ],\n",
       "        [-5.        , -3.88888889, -2.77777778, -1.66666667, -0.55555556,\n",
       "          0.55555556,  1.66666667,  2.77777778,  3.88888889,  5.        ],\n",
       "        [-5.        , -3.88888889, -2.77777778, -1.66666667, -0.55555556,\n",
       "          0.55555556,  1.66666667,  2.77777778,  3.88888889,  5.        ],\n",
       "        [-5.        , -3.88888889, -2.77777778, -1.66666667, -0.55555556,\n",
       "          0.55555556,  1.66666667,  2.77777778,  3.88888889,  5.        ],\n",
       "        [-5.        , -3.88888889, -2.77777778, -1.66666667, -0.55555556,\n",
       "          0.55555556,  1.66666667,  2.77777778,  3.88888889,  5.        ],\n",
       "        [-5.        , -3.88888889, -2.77777778, -1.66666667, -0.55555556,\n",
       "          0.55555556,  1.66666667,  2.77777778,  3.88888889,  5.        ]]),\n",
       " array([[-5.        , -5.        , -5.        , -5.        , -5.        ,\n",
       "         -5.        , -5.        , -5.        , -5.        , -5.        ],\n",
       "        [-3.88888889, -3.88888889, -3.88888889, -3.88888889, -3.88888889,\n",
       "         -3.88888889, -3.88888889, -3.88888889, -3.88888889, -3.88888889],\n",
       "        [-2.77777778, -2.77777778, -2.77777778, -2.77777778, -2.77777778,\n",
       "         -2.77777778, -2.77777778, -2.77777778, -2.77777778, -2.77777778],\n",
       "        [-1.66666667, -1.66666667, -1.66666667, -1.66666667, -1.66666667,\n",
       "         -1.66666667, -1.66666667, -1.66666667, -1.66666667, -1.66666667],\n",
       "        [-0.55555556, -0.55555556, -0.55555556, -0.55555556, -0.55555556,\n",
       "         -0.55555556, -0.55555556, -0.55555556, -0.55555556, -0.55555556],\n",
       "        [ 0.55555556,  0.55555556,  0.55555556,  0.55555556,  0.55555556,\n",
       "          0.55555556,  0.55555556,  0.55555556,  0.55555556,  0.55555556],\n",
       "        [ 1.66666667,  1.66666667,  1.66666667,  1.66666667,  1.66666667,\n",
       "          1.66666667,  1.66666667,  1.66666667,  1.66666667,  1.66666667],\n",
       "        [ 2.77777778,  2.77777778,  2.77777778,  2.77777778,  2.77777778,\n",
       "          2.77777778,  2.77777778,  2.77777778,  2.77777778,  2.77777778],\n",
       "        [ 3.88888889,  3.88888889,  3.88888889,  3.88888889,  3.88888889,\n",
       "          3.88888889,  3.88888889,  3.88888889,  3.88888889,  3.88888889],\n",
       "        [ 5.        ,  5.        ,  5.        ,  5.        ,  5.        ,\n",
       "          5.        ,  5.        ,  5.        ,  5.        ,  5.        ]]))"
      ]
     },
     "execution_count": 5,
     "metadata": {},
     "output_type": "execute_result"
    }
   ],
   "source": [
    "X_test = np.meshgrid(np.linspace(-5, 5, 10), np.linspace(-5, 5, 10))\n",
    "X_test"
   ]
  },
  {
   "cell_type": "code",
   "execution_count": null,
   "metadata": {},
   "outputs": [],
   "source": []
  }
 ],
 "metadata": {
  "kernelspec": {
   "display_name": "test",
   "language": "python",
   "name": "python3"
  },
  "language_info": {
   "codemirror_mode": {
    "name": "ipython",
    "version": 3
   },
   "file_extension": ".py",
   "mimetype": "text/x-python",
   "name": "python",
   "nbconvert_exporter": "python",
   "pygments_lexer": "ipython3",
   "version": "3.13.0"
  }
 },
 "nbformat": 4,
 "nbformat_minor": 4
}
