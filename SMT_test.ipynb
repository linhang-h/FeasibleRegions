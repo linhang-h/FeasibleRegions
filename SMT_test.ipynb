{
 "cells": [
  {
   "cell_type": "markdown",
   "metadata": {},
   "source": [
    "## Exploring SMT"
   ]
  },
  {
   "cell_type": "code",
   "execution_count": 1,
   "metadata": {},
   "outputs": [],
   "source": [
    "import numpy as np\n",
    "from smt.utils.misc import compute_relative_error\n",
    "\n",
    "from smt.problems import Rosenbrock\n",
    "from smt.sampling_methods import LHS\n",
    "from smt.surrogate_models import LS, QP, KPLS, KRG, KPLSK, GEKPLS, MGP, IDW, RBF, RMTC, RMTB\n",
    "import matplotlib.pyplot as plt\n",
    "from matplotlib import cm\n",
    "\n",
    "from scipy.integrate import dblquad"
   ]
  },
  {
   "cell_type": "markdown",
   "metadata": {},
   "source": [
    "### Finding the best rectangular domain of area 1 to integrate the hidden function"
   ]
  },
  {
   "cell_type": "code",
   "execution_count": 2,
   "metadata": {},
   "outputs": [],
   "source": [
    "def hidden_function(x,y):\n",
    "    return np.exp(-x**2-y**2)\n",
    "\n",
    "def objective_function(x,y,l):\n",
    "    return dblquad(hidden_function, x, x+l, y, y+1/l)[0]"
   ]
  },
  {
   "cell_type": "markdown",
   "metadata": {},
   "source": [
    "### Sampling with Latin Hypercube Sampling"
   ]
  },
  {
   "cell_type": "code",
   "execution_count": 3,
   "metadata": {},
   "outputs": [
    {
     "data": {
      "text/plain": [
       "[array([[ 0.3  ,  3.3  ,  3.971],\n",
       "        [-4.3  ,  2.3  ,  4.559],\n",
       "        [ 4.5  , -3.9  ,  4.069],\n",
       "        [-0.7  ,  4.3  ,  0.149],\n",
       "        [-2.7  ,  2.7  ,  1.325]]),\n",
       " array([1.34413410e-06, 7.84073833e-04, 3.11898960e-17, 1.06524688e-10,\n",
       "        5.41228429e-06])]"
      ]
     },
     "execution_count": 3,
     "metadata": {},
     "output_type": "execute_result"
    }
   ],
   "source": [
    "sampling = LHS(xlimits=np.array([[-5,5],[-5,5],[0.1,5]]))\n",
    "\n",
    "X = sampling(50)\n",
    "Y = np.array([objective_function(x,y,z) for x,y,z in X])\n",
    "[X[:5], Y[:5]]"
   ]
  },
  {
   "cell_type": "markdown",
   "metadata": {},
   "source": [
    "### Training with Kriging"
   ]
  },
  {
   "cell_type": "code",
   "execution_count": 4,
   "metadata": {},
   "outputs": [
    {
     "name": "stdout",
     "output_type": "stream",
     "text": [
      "___________________________________________________________________________\n",
      "   \n",
      "                                  Kriging\n",
      "___________________________________________________________________________\n",
      "   \n",
      " Problem size\n",
      "   \n",
      "      # training points.        : 50\n",
      "   \n",
      "___________________________________________________________________________\n",
      "   \n",
      " Training\n",
      "   \n",
      "   Training ...\n",
      "   Training - done. Time (sec):  1.2133298\n"
     ]
    }
   ],
   "source": [
    "sm = KRG(theta0=[1e-2, 1e-2, 1e-2])\n",
    "sm.set_training_values(X, Y)\n",
    "sm.train()"
   ]
  },
  {
   "cell_type": "markdown",
   "metadata": {},
   "source": [
    "### Making predictions for squares"
   ]
  },
  {
   "cell_type": "code",
   "execution_count": 5,
   "metadata": {},
   "outputs": [
    {
     "name": "stdout",
     "output_type": "stream",
     "text": [
      "___________________________________________________________________________\n",
      "   \n",
      " Evaluation\n",
      "   \n",
      "      # eval points. : 2500\n",
      "   \n",
      "   Predicting ...\n",
      "   Predicting - done. Time (sec):  0.0161698\n",
      "   \n",
      "   Prediction time/pt. (sec) :  0.0000065\n",
      "   \n"
     ]
    }
   ],
   "source": [
    "x, y = np.meshgrid(np.linspace(-5, 5, 50), np.linspace(-5, 5, 50))\n",
    "x_ = x.reshape([-1,1])\n",
    "y_ = y.reshape([-1,1])\n",
    "l = np.ones(x_.shape)\n",
    "X_test = np.hstack([x_-0.5,y_-0.5,l])\n",
    "Y_test = sm.predict_values(X_test).reshape(x.shape)"
   ]
  },
  {
   "cell_type": "markdown",
   "metadata": {},
   "source": [
    "### Plotting the predictions"
   ]
  },
  {
   "cell_type": "code",
   "execution_count": 6,
   "metadata": {},
   "outputs": [
    {
     "data": {
      "image/png": "[encoded data removed]",
      "text/plain": [
       "<Figure size 800x800 with 2 Axes>"
      ]
     },
     "metadata": {},
     "output_type": "display_data"
    }
   ],
   "source": [
    "plt.figure(figsize=(8,8))\n",
    "ax = plt.gca()\n",
    "ax.set_aspect('equal')\n",
    "im = ax.pcolormesh(x, y, Y_test, cmap='coolwarm')\n",
    "plt.colorbar(im, shrink=0.6)\n",
    "plt.show()"
   ]
  },
  {
   "cell_type": "code",
   "execution_count": null,
   "metadata": {},
   "outputs": [],
   "source": []
  }
 ],
 "metadata": {
  "kernelspec": {
   "display_name": "test",
   "language": "python",
   "name": "python3"
  },
  "language_info": {
   "codemirror_mode": {
    "name": "ipython",
    "version": 3
   },
   "file_extension": ".py",
   "mimetype": "text/x-python",
   "name": "python",
   "nbconvert_exporter": "python",
   "pygments_lexer": "ipython3",
   "version": "3.13.0"
  }
 },
 "nbformat": 4,
 "nbformat_minor": 4
}
