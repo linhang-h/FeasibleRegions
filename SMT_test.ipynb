{
 "cells": [
  {
   "cell_type": "markdown",
   "metadata": {},
   "source": [
    "## Exploring SMT"
   ]
  },
  {
   "cell_type": "code",
   "execution_count": 1,
   "metadata": {},
   "outputs": [],
   "source": [
    "import numpy as np\n",
    "from smt.utils.misc import compute_relative_error\n",
    "\n",
    "from smt.problems import Rosenbrock\n",
    "from smt.sampling_methods import LHS\n",
    "from smt.surrogate_models import LS, QP, KPLS, KRG, KPLSK, GEKPLS, MGP, IDW, RBF, RMTC, RMTB\n",
    "import matplotlib.pyplot as plt\n",
    "from matplotlib import cm\n",
    "\n",
    "from scipy.integrate import dblquad"
   ]
  },
  {
   "cell_type": "markdown",
   "metadata": {},
   "source": [
    "### Finding the best rectangular domain of area 1 to integrate the hidden function"
   ]
  },
  {
   "cell_type": "code",
   "execution_count": 2,
   "metadata": {},
   "outputs": [],
   "source": [
    "def hidden_function(x,y):\n",
    "    return np.exp(-x**2-y**2)\n",
    "\n",
    "def objective_function(x,y,l):\n",
    "    return dblquad(hidden_function, x, x+l, y, y+1/l)[0]"
   ]
  },
  {
   "cell_type": "markdown",
   "metadata": {},
   "source": [
    "### Sample with Latin Hypercube Sampling"
   ]
  },
  {
   "cell_type": "code",
   "execution_count": 3,
   "metadata": {},
   "outputs": [
    {
     "data": {
      "text/plain": [
       "[array([[-1.7  , -3.9  ,  3.971],\n",
       "        [-4.3  ,  4.3  ,  2.403],\n",
       "        [-4.7  , -4.1  ,  3.677],\n",
       "        [ 1.3  ,  3.3  ,  2.599],\n",
       "        [-0.3  ,  1.7  ,  2.305]]),\n",
       " array([3.31780896e-07, 6.69716410e-12, 6.39736632e-09, 1.48748359e-07,\n",
       "        1.42078110e-02])]"
      ]
     },
     "execution_count": 3,
     "metadata": {},
     "output_type": "execute_result"
    }
   ],
   "source": [
    "sampling = LHS(xlimits=np.array([[-5,5],[-5,5],[0.1,5]]))\n",
    "\n",
    "X = sampling(50)\n",
    "Y = np.array([objective_function(x,y,z) for x,y,z in X])\n",
    "[X[:5], Y[:5]]"
   ]
  },
  {
   "cell_type": "markdown",
   "metadata": {},
   "source": [
    "### Training with Kriging"
   ]
  },
  {
   "cell_type": "code",
   "execution_count": 4,
   "metadata": {},
   "outputs": [
    {
     "name": "stdout",
     "output_type": "stream",
     "text": [
      "___________________________________________________________________________\n",
      "   \n",
      "                                  Kriging\n",
      "___________________________________________________________________________\n",
      "   \n",
      " Problem size\n",
      "   \n",
      "      # training points.        : 50\n",
      "   \n",
      "___________________________________________________________________________\n",
      "   \n",
      " Training\n",
      "   \n",
      "   Training ...\n",
      "   Training - done. Time (sec):  1.3634882\n"
     ]
    }
   ],
   "source": [
    "sm = KRG(theta0=[1e-2, 1e-2, 1e-2])\n",
    "sm.set_training_values(X, Y)\n",
    "sm.train()"
   ]
  },
  {
   "cell_type": "markdown",
   "metadata": {},
   "source": [
    "### Making predictions for squares"
   ]
  },
  {
   "cell_type": "code",
   "execution_count": 5,
   "metadata": {},
   "outputs": [
    {
     "name": "stdout",
     "output_type": "stream",
     "text": [
      "___________________________________________________________________________\n",
      "   \n",
      " Evaluation\n",
      "   \n",
      "      # eval points. : 2500\n",
      "   \n",
      "   Predicting ...\n",
      "   Predicting - done. Time (sec):  0.0205011\n",
      "   \n",
      "   Prediction time/pt. (sec) :  0.0000082\n",
      "   \n"
     ]
    }
   ],
   "source": [
    "x, y = np.meshgrid(np.linspace(-5, 5, 50), np.linspace(-5, 5, 50))\n",
    "x_ = x.reshape([-1,1])\n",
    "y_ = y.reshape([-1,1])\n",
    "l = np.ones(x_.shape)\n",
    "X_test = np.hstack([x_-0.5,y_-0.5,l])\n",
    "Y_test = sm.predict_values(X_test).reshape(x.shape)"
   ]
  },
  {
   "cell_type": "markdown",
   "metadata": {},
   "source": [
    "### Plotting the predictions"
   ]
  },
  {
   "cell_type": "code",
   "execution_count": 6,
   "metadata": {},
   "outputs": [
    {
     "data": {
      "image/png": "[encoded data removed]",
      "text/plain": [
       "<Figure size 800x800 with 1 Axes>"
      ]
     },
     "metadata": {},
     "output_type": "display_data"
    }
   ],
   "source": [
    "plt.figure(figsize=(8,8))\n",
    "ax = plt.gca()\n",
    "ax.set_aspect('equal')\n",
    "ax.pcolormesh(x, y, Y_test, cmap='coolwarm')\n",
    "plt.show()"
   ]
  },
  {
   "cell_type": "code",
   "execution_count": null,
   "metadata": {},
   "outputs": [],
   "source": []
  }
 ],
 "metadata": {
  "kernelspec": {
   "display_name": "test",
   "language": "python",
   "name": "python3"
  },
  "language_info": {
   "codemirror_mode": {
    "name": "ipython",
    "version": 3
   },
   "file_extension": ".py",
   "mimetype": "text/x-python",
   "name": "python",
   "nbconvert_exporter": "python",
   "pygments_lexer": "ipython3",
   "version": "3.13.0"
  }
 },
 "nbformat": 4,
 "nbformat_minor": 4
}
